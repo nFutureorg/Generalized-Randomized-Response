{
  "nbformat": 4,
  "nbformat_minor": 0,
  "metadata": {
    "colab": {
      "name": "TP4.ipynb",
      "provenance": [],
      "collapsed_sections": [],
      "toc_visible": true
    },
    "kernelspec": {
      "name": "python3",
      "display_name": "Python 3"
    }
  },
  "cells": [
    {
      "cell_type": "markdown",
      "metadata": {
        "id": "Yzz6KlGKu8EO"
      },
      "source": [
        "TP - 04: Apply the GRR mechanism to the attached dataset (FIMU_2017_Vhs.csv).\n",
        "Select one attribute among [Gender, Age, Geolife, Visitor Category, Region, Sleeping Area] (distribute between students)\n",
        "Vary parameter **ε in [0.1, 1, 10]** For each experiment:\n",
        "\n",
        "**Evaluate the RMSE between the real frequency and estimated one. What are the values for p and q.**"
      ]
    },
    {
      "cell_type": "markdown",
      "metadata": {
        "id": "xLCwQN-GvIPa"
      },
      "source": [
        "**Submitted By:**\n",
        "**Sheikh Shah Mohammad Motiur RAHMAN**"
      ]
    },
    {
      "cell_type": "markdown",
      "metadata": {
        "id": "RQykqRzkp44i"
      },
      "source": [
        "# Import Libraries"
      ]
    },
    {
      "cell_type": "code",
      "metadata": {
        "id": "AYasjtMJp2Sz"
      },
      "source": [
        "import pandas as pd\n",
        "pd.set_option('mode.chained_assignment',None)\n",
        "import numpy as np\n",
        "np.set_printoptions(suppress=True)\n",
        "import matplotlib.pyplot as plt\n",
        "from sklearn.metrics import mean_squared_error\n",
        "import copy\n",
        "from scipy.stats import bernoulli\n",
        "import csv\n",
        "import random"
      ],
      "execution_count": 104,
      "outputs": []
    },
    {
      "cell_type": "markdown",
      "metadata": {
        "id": "qBrG_HHmp98j"
      },
      "source": [
        "# Read Dataset"
      ]
    },
    {
      "cell_type": "code",
      "metadata": {
        "colab": {
          "base_uri": "https://localhost:8080/",
          "height": 204
        },
        "id": "0kf4dHKDqBwj",
        "outputId": "564fc652-20dc-4ec5-dee5-b66dd6b49fbf"
      },
      "source": [
        "df = pd.read_csv('FIMU_2017_Vhs.csv')\n",
        "del df['Person ID']\n",
        "del df['Name']\n",
        "df.sample(5)"
      ],
      "execution_count": 105,
      "outputs": [
        {
          "output_type": "execute_result",
          "data": {
            "text/html": [
              "<div>\n",
              "<style scoped>\n",
              "    .dataframe tbody tr th:only-of-type {\n",
              "        vertical-align: middle;\n",
              "    }\n",
              "\n",
              "    .dataframe tbody tr th {\n",
              "        vertical-align: top;\n",
              "    }\n",
              "\n",
              "    .dataframe thead th {\n",
              "        text-align: right;\n",
              "    }\n",
              "</style>\n",
              "<table border=\"1\" class=\"dataframe\">\n",
              "  <thead>\n",
              "    <tr style=\"text-align: right;\">\n",
              "      <th></th>\n",
              "      <th>Gender</th>\n",
              "      <th>Age</th>\n",
              "      <th>Geolife</th>\n",
              "      <th>Visitor category</th>\n",
              "      <th>Region</th>\n",
              "      <th>Sleeping area</th>\n",
              "    </tr>\n",
              "  </thead>\n",
              "  <tbody>\n",
              "    <tr>\n",
              "      <th>6342</th>\n",
              "      <td>M</td>\n",
              "      <td>&lt;18</td>\n",
              "      <td>popular</td>\n",
              "      <td>Resident</td>\n",
              "      <td>Franche-Comté</td>\n",
              "      <td>City of Belfort</td>\n",
              "    </tr>\n",
              "    <tr>\n",
              "      <th>7656</th>\n",
              "      <td>M</td>\n",
              "      <td>35-44</td>\n",
              "      <td>middle-class urban</td>\n",
              "      <td>Resident</td>\n",
              "      <td>Franche-Comté</td>\n",
              "      <td>City of Belfort</td>\n",
              "    </tr>\n",
              "    <tr>\n",
              "      <th>16703</th>\n",
              "      <td>F</td>\n",
              "      <td>55-64</td>\n",
              "      <td>dynamic rural</td>\n",
              "      <td>Resident</td>\n",
              "      <td>Franche-Comté</td>\n",
              "      <td>NR</td>\n",
              "    </tr>\n",
              "    <tr>\n",
              "      <th>39209</th>\n",
              "      <td>F</td>\n",
              "      <td>55-64</td>\n",
              "      <td>popular</td>\n",
              "      <td>Resident</td>\n",
              "      <td>Franche-Comté</td>\n",
              "      <td>City of Belfort</td>\n",
              "    </tr>\n",
              "    <tr>\n",
              "      <th>58937</th>\n",
              "      <td>M</td>\n",
              "      <td>&gt;65</td>\n",
              "      <td>rural worker</td>\n",
              "      <td>French tourist</td>\n",
              "      <td>Franche-Comté</td>\n",
              "      <td>Rest of Haute Saone</td>\n",
              "    </tr>\n",
              "  </tbody>\n",
              "</table>\n",
              "</div>"
            ],
            "text/plain": [
              "      Gender    Age  ...         Region        Sleeping area\n",
              "6342       M    <18  ...  Franche-Comté      City of Belfort\n",
              "7656       M  35-44  ...  Franche-Comté      City of Belfort\n",
              "16703      F  55-64  ...  Franche-Comté                   NR\n",
              "39209      F  55-64  ...  Franche-Comté      City of Belfort\n",
              "58937      M    >65  ...  Franche-Comté  Rest of Haute Saone\n",
              "\n",
              "[5 rows x 6 columns]"
            ]
          },
          "metadata": {
            "tags": []
          },
          "execution_count": 105
        }
      ]
    },
    {
      "cell_type": "markdown",
      "metadata": {
        "id": "s8KR-GZkqUZe"
      },
      "source": [
        "# Explore Dataset"
      ]
    },
    {
      "cell_type": "code",
      "metadata": {
        "colab": {
          "base_uri": "https://localhost:8080/",
          "height": 1000
        },
        "id": "gYWPkN9MqUBF",
        "outputId": "22c61d50-d912-4073-8241-a59c71208238"
      },
      "source": [
        "for col in df.columns:\n",
        "    nb_col = np.unique(df[col],return_counts=True)\n",
        "    plt.bar(range(len(nb_col[0])),nb_col[-1])\n",
        "    plt.xticks(range(len(nb_col[0])),nb_col[0])\n",
        "    plt.show()\n",
        "    print(col,'nb of values j =',len(nb_col[0]))"
      ],
      "execution_count": 106,
      "outputs": [
        {
          "output_type": "display_data",
          "data": {
            "image/png": "[encoded data removed]",
            "text/plain": [
              "<Figure size 432x288 with 1 Axes>"
            ]
          },
          "metadata": {
            "tags": [],
            "needs_background": "light"
          }
        },
        {
          "output_type": "stream",
          "text": [
            "Gender nb of values j = 3\n"
          ],
          "name": "stdout"
        },
        {
          "output_type": "display_data",
          "data": {
            "image/png": "[encoded data removed]",
            "text/plain": [
              "<Figure size 432x288 with 1 Axes>"
            ]
          },
          "metadata": {
            "tags": [],
            "needs_background": "light"
          }
        },
        {
          "output_type": "stream",
          "text": [
            "Age nb of values j = 8\n"
          ],
          "name": "stdout"
        },
        {
          "output_type": "display_data",
          "data": {
            "image/png": "[encoded data removed]",
            "text/plain": [
              "<Figure size 432x288 with 1 Axes>"
            ]
          },
          "metadata": {
            "tags": [],
            "needs_background": "light"
          }
        },
        {
          "output_type": "stream",
          "text": [
            "Geolife nb of values j = 12\n"
          ],
          "name": "stdout"
        },
        {
          "output_type": "display_data",
          "data": {
            "image/png": "[encoded data removed]",
            "text/plain": [
              "<Figure size 432x288 with 1 Axes>"
            ]
          },
          "metadata": {
            "tags": [],
            "needs_background": "light"
          }
        },
        {
          "output_type": "stream",
          "text": [
            "Visitor category nb of values j = 3\n"
          ],
          "name": "stdout"
        },
        {
          "output_type": "display_data",
          "data": {
            "image/png": "[encoded data removed]",
            "text/plain": [
              "<Figure size 432x288 with 1 Axes>"
            ]
          },
          "metadata": {
            "tags": [],
            "needs_background": "light"
          }
        },
        {
          "output_type": "stream",
          "text": [
            "Region nb of values j = 37\n"
          ],
          "name": "stdout"
        },
        {
          "output_type": "display_data",
          "data": {
            "image/png": "[encoded data removed]",
            "text/plain": [
              "<Figure size 432x288 with 1 Axes>"
            ]
          },
          "metadata": {
            "tags": [],
            "needs_background": "light"
          }
        },
        {
          "output_type": "stream",
          "text": [
            "Sleeping area nb of values j = 11\n"
          ],
          "name": "stdout"
        }
      ]
    },
    {
      "cell_type": "markdown",
      "metadata": {
        "id": "7FWmlkoQC4cT"
      },
      "source": [
        "# Anonymizing data with GRR"
      ]
    },
    {
      "cell_type": "code",
      "metadata": {
        "colab": {
          "base_uri": "https://localhost:8080/"
        },
        "id": "xrYCcQx2C5vC",
        "outputId": "5f58bb93-599d-4bab-b8b7-9aede23c93a7"
      },
      "source": [
        "dfnew = copy.deepcopy(df['Age'])\n",
        "\n",
        "Real = np.unique(dfnew,return_counts=1)\n",
        "Real"
      ],
      "execution_count": 129,
      "outputs": [
        {
          "output_type": "execute_result",
          "data": {
            "text/plain": [
              "(array(['18-24', '25-34', '35-44', '45-54', '55-64', '<18', '>65', 'NR'],\n",
              "       dtype=object),\n",
              " array([ 8474, 11115, 11813, 12710, 11907, 17111, 13968,  1837]))"
            ]
          },
          "metadata": {
            "tags": []
          },
          "execution_count": 129
        }
      ]
    },
    {
      "cell_type": "markdown",
      "metadata": {
        "id": "GEyyqVz8C_K3"
      },
      "source": [
        "# Preprocessing: Any special encoding"
      ]
    },
    {
      "cell_type": "code",
      "metadata": {
        "colab": {
          "base_uri": "https://localhost:8080/"
        },
        "id": "syKtiUWjDASX",
        "outputId": "0b55f923-4181-4c4f-a00f-27787b701927"
      },
      "source": [
        "V = range(len(Real[0]))\n",
        "\n",
        "dfnew.replace(Real[0],V,inplace=True)\n",
        "dfnew.sample(5)"
      ],
      "execution_count": 130,
      "outputs": [
        {
          "output_type": "execute_result",
          "data": {
            "text/plain": [
              "6342     5\n",
              "7656     2\n",
              "16703    4\n",
              "39209    4\n",
              "58937    6\n",
              "Name: Age, dtype: int64"
            ]
          },
          "metadata": {
            "tags": []
          },
          "execution_count": 130
        }
      ]
    },
    {
      "cell_type": "markdown",
      "metadata": {
        "id": "BR6Vg9-5tIWd"
      },
      "source": [
        "# GRR mechanism"
      ]
    },
    {
      "cell_type": "code",
      "metadata": {
        "id": "p9tzPWJBAIYw"
      },
      "source": [
        "def GRR(arr,V, p,q):\n",
        "  coin = random.random()\n",
        "  if coin <= p:\n",
        "    return arr\n",
        "  else:\n",
        "    return random.choice([ele for ele in V if ele != arr])"
      ],
      "execution_count": 131,
      "outputs": []
    },
    {
      "cell_type": "markdown",
      "metadata": {
        "id": "TDSgSHIvtTPo"
      },
      "source": [
        "# Anonymizing with esp = 0.1"
      ]
    },
    {
      "cell_type": "code",
      "metadata": {
        "colab": {
          "base_uri": "https://localhost:8080/"
        },
        "id": "8DykHR8DAIqI",
        "outputId": "bb25b094-2859-4259-cae5-e96b8132f514"
      },
      "source": [
        "seed=42\n",
        "\n",
        "np.random.seed(seed)\n",
        "\n",
        "j = len(V)\n",
        "\n",
        "eps = 0.1\n",
        "\n",
        "p=np.exp(eps)/(np.exp(eps)+j-1)\n",
        "\n",
        "q=(1-p)/(j-1)\n",
        "\n",
        "lst_anon = []\n",
        "\n",
        "count =0\n",
        "for arr in dfnew:\n",
        "    arr_anon = GRR(arr,V, p,q)\n",
        "    lst_anon.append(arr_anon)\n",
        "    \n",
        "    if count == 10:\n",
        "        print('Original:\\t',arr)\n",
        "        print('Anonymized:\\t',arr_anon)\n",
        "    count+=1"
      ],
      "execution_count": 132,
      "outputs": [
        {
          "output_type": "stream",
          "text": [
            "Original:\t 7\n",
            "Anonymized:\t 1\n"
          ],
          "name": "stdout"
        }
      ]
    },
    {
      "cell_type": "markdown",
      "metadata": {
        "id": "VobhFEdAtYkc"
      },
      "source": [
        "# Anonymizing with esp = 1"
      ]
    },
    {
      "cell_type": "code",
      "metadata": {
        "colab": {
          "base_uri": "https://localhost:8080/"
        },
        "id": "76fPYNF7ZO_X",
        "outputId": "2146f914-88bf-4c08-a8b3-2bd665d0d8ff"
      },
      "source": [
        "seed=42\n",
        "\n",
        "np.random.seed(seed)\n",
        "\n",
        "j1 = len(V)\n",
        "\n",
        "eps1 = 1\n",
        "\n",
        "p1=np.exp(eps1)/(np.exp(eps1)+j1-1)\n",
        "\n",
        "q1=(1-p1)/(j1-1)\n",
        "\n",
        "lst_anon1 = []\n",
        "\n",
        "count =0\n",
        "for arr in dfnew:\n",
        "    arr_anon = GRR(arr,V, p1,q1)\n",
        "    lst_anon1.append(arr_anon)\n",
        "    \n",
        "    if count == 10:\n",
        "        print('Original:\\t',arr)\n",
        "        print('Anonymized:\\t',arr_anon)\n",
        "    count+=1"
      ],
      "execution_count": 133,
      "outputs": [
        {
          "output_type": "stream",
          "text": [
            "Original:\t 7\n",
            "Anonymized:\t 5\n"
          ],
          "name": "stdout"
        }
      ]
    },
    {
      "cell_type": "markdown",
      "metadata": {
        "id": "8jICvcEstbHF"
      },
      "source": [
        "# Anonymizing with esp = 10"
      ]
    },
    {
      "cell_type": "code",
      "metadata": {
        "colab": {
          "base_uri": "https://localhost:8080/"
        },
        "id": "NywaLyJ3ZQqC",
        "outputId": "ffc8c2f9-4d8b-4833-cfeb-436c17c0f26f"
      },
      "source": [
        "seed=42\n",
        "\n",
        "np.random.seed(seed)\n",
        "\n",
        "j10 = len(V)\n",
        "\n",
        "eps10 = 10\n",
        "\n",
        "p10=np.exp(eps10)/(np.exp(eps10)+j10-1)\n",
        "\n",
        "q10=(1-p10)/(j10-1)\n",
        "\n",
        "lst_anon10 = []\n",
        "\n",
        "count =0\n",
        "for arr in dfnew:\n",
        "    arr_anon = GRR(arr,V, p10,q10)\n",
        "    lst_anon10.append(arr_anon)\n",
        "    \n",
        "    if count == 10:\n",
        "        print('Original:\\t',arr)\n",
        "        print('Anonymized:\\t',arr_anon)\n",
        "    count+=1"
      ],
      "execution_count": 134,
      "outputs": [
        {
          "output_type": "stream",
          "text": [
            "Original:\t 7\n",
            "Anonymized:\t 7\n"
          ],
          "name": "stdout"
        }
      ]
    },
    {
      "cell_type": "markdown",
      "metadata": {
        "id": "6-ddwobLtjL9"
      },
      "source": [
        "# Ni be the number of times the value vi (esp = 0.1)"
      ]
    },
    {
      "cell_type": "code",
      "metadata": {
        "colab": {
          "base_uri": "https://localhost:8080/"
        },
        "id": "8jsNQ5lrCooh",
        "outputId": "b0ab4fc8-dd96-44ba-f594-37ecbea5fb5d"
      },
      "source": [
        "Ni = np.unique(lst_anon,return_counts=1)\n",
        "for val in range(len(Ni[0])):\n",
        "    print(val,Ni[-1][val])"
      ],
      "execution_count": 135,
      "outputs": [
        {
          "output_type": "stream",
          "text": [
            "0 11039\n",
            "1 11121\n",
            "2 11129\n",
            "3 11250\n",
            "4 11160\n",
            "5 11290\n",
            "6 11030\n",
            "7 10916\n"
          ],
          "name": "stdout"
        }
      ]
    },
    {
      "cell_type": "markdown",
      "metadata": {
        "id": "p4CWFtHxto1C"
      },
      "source": [
        "# Ni be the number of times the value vi (esp = 1)"
      ]
    },
    {
      "cell_type": "code",
      "metadata": {
        "colab": {
          "base_uri": "https://localhost:8080/"
        },
        "id": "2vQSkTGLaQGi",
        "outputId": "b8743401-85e9-437e-9f57-13093c79a743"
      },
      "source": [
        "Ni1 = np.unique(lst_anon1,return_counts=1)\n",
        "for val in range(len(Ni1[0])):\n",
        "    print(val,Ni1[-1][val])"
      ],
      "execution_count": 136,
      "outputs": [
        {
          "output_type": "stream",
          "text": [
            "0 10437\n",
            "1 11196\n",
            "2 11290\n",
            "3 11302\n",
            "4 11316\n",
            "5 12221\n",
            "6 11604\n",
            "7 9569\n"
          ],
          "name": "stdout"
        }
      ]
    },
    {
      "cell_type": "markdown",
      "metadata": {
        "id": "86S7HAa9tsIW"
      },
      "source": [
        "# Ni be the number of times the value vi (esp = 10)"
      ]
    },
    {
      "cell_type": "code",
      "metadata": {
        "colab": {
          "base_uri": "https://localhost:8080/"
        },
        "id": "Iyi9aThWaQ4b",
        "outputId": "cda4349b-f823-4623-967e-3bbd45756d7d"
      },
      "source": [
        "Ni10 = np.unique(lst_anon10,return_counts=1)\n",
        "for val in range(len(Ni10[0])):\n",
        "    print(val,Ni10[-1][val])"
      ],
      "execution_count": 137,
      "outputs": [
        {
          "output_type": "stream",
          "text": [
            "0 8474\n",
            "1 11112\n",
            "2 11812\n",
            "3 12710\n",
            "4 11908\n",
            "5 17111\n",
            "6 13969\n",
            "7 1839\n"
          ],
          "name": "stdout"
        }
      ]
    },
    {
      "cell_type": "markdown",
      "metadata": {
        "id": "bhIWbgUjtzyG"
      },
      "source": [
        "# Visualization real vs Ni (esp = 0.1)"
      ]
    },
    {
      "cell_type": "code",
      "metadata": {
        "colab": {
          "base_uri": "https://localhost:8080/",
          "height": 230
        },
        "id": "nvL8djrFCro0",
        "outputId": "9ddf0288-c03c-4c6c-cfe0-1e447302819f"
      },
      "source": [
        "barWidth = 0.4\n",
        "r1 = np.arange(len(Real[-1]))\n",
        "r2 = [x + barWidth for x in r1]\n",
        "\n",
        "plt.figure(figsize=(16,3))\n",
        "plt.bar(r1, Real[-1], color='tab:blue', width=barWidth, edgecolor='white', label='Real')\n",
        "plt.bar(r2, Ni[-1], color='tab:orange', width=barWidth, edgecolor='white', label='Ni')\n",
        "plt.xticks([r+barWidth/2 for r in r1], Real[0],rotation=90)\n",
        "plt.ylabel('Nb of users')\n",
        "plt.legend()\n",
        "plt.show();"
      ],
      "execution_count": 138,
      "outputs": [
        {
          "output_type": "display_data",
          "data": {
            "image/png": "[encoded data removed]",
            "text/plain": [
              "<Figure size 1152x216 with 1 Axes>"
            ]
          },
          "metadata": {
            "tags": [],
            "needs_background": "light"
          }
        }
      ]
    },
    {
      "cell_type": "markdown",
      "metadata": {
        "id": "pTj3L9ZXuAH_"
      },
      "source": [
        "# Visualization real vs Ni (esp = 1)"
      ]
    },
    {
      "cell_type": "code",
      "metadata": {
        "colab": {
          "base_uri": "https://localhost:8080/",
          "height": 230
        },
        "id": "ipCtKzt0akLY",
        "outputId": "45fdf71f-1e67-43e4-c79f-b2baf83e2bc9"
      },
      "source": [
        "barWidth = 0.4\n",
        "r1 = np.arange(len(Real[-1]))\n",
        "r2 = [x + barWidth for x in r1]\n",
        "\n",
        "plt.figure(figsize=(16,3))\n",
        "plt.bar(r1, Real[-1], color='tab:blue', width=barWidth, edgecolor='white', label='Real')\n",
        "plt.bar(r2, Ni1[-1], color='tab:orange', width=barWidth, edgecolor='white', label='Ni1')\n",
        "plt.xticks([r+barWidth/2 for r in r1], Real[0],rotation=90)\n",
        "plt.ylabel('Nb of users')\n",
        "plt.legend()\n",
        "plt.show();"
      ],
      "execution_count": 139,
      "outputs": [
        {
          "output_type": "display_data",
          "data": {
            "image/png": "[encoded data removed]",
            "text/plain": [
              "<Figure size 1152x216 with 1 Axes>"
            ]
          },
          "metadata": {
            "tags": [],
            "needs_background": "light"
          }
        }
      ]
    },
    {
      "cell_type": "markdown",
      "metadata": {
        "id": "c6FZbjg7uEA3"
      },
      "source": [
        "# Visualization real vs Ni (esp = 10)"
      ]
    },
    {
      "cell_type": "code",
      "metadata": {
        "colab": {
          "base_uri": "https://localhost:8080/",
          "height": 230
        },
        "id": "t5QRbWEcakv3",
        "outputId": "edc84415-4abf-47d6-958b-96ee2ba831f0"
      },
      "source": [
        "barWidth = 0.4\n",
        "r1 = np.arange(len(Real[-1]))\n",
        "r2 = [x + barWidth for x in r1]\n",
        "\n",
        "plt.figure(figsize=(16,3))\n",
        "plt.bar(r1, Real[-1], color='tab:blue', width=barWidth, edgecolor='white', label='Real')\n",
        "plt.bar(r2, Ni10[-1], color='tab:orange', width=barWidth, edgecolor='white', label='Ni10')\n",
        "plt.xticks([r+barWidth/2 for r in r1], Real[0],rotation=90)\n",
        "plt.ylabel('Nb of users')\n",
        "plt.legend()\n",
        "plt.show();"
      ],
      "execution_count": 140,
      "outputs": [
        {
          "output_type": "display_data",
          "data": {
            "image/png": "[encoded data removed]",
            "text/plain": [
              "<Figure size 1152x216 with 1 Axes>"
            ]
          },
          "metadata": {
            "tags": [],
            "needs_background": "light"
          }
        }
      ]
    },
    {
      "cell_type": "markdown",
      "metadata": {
        "id": "qTj9hPr2uHJS"
      },
      "source": [
        "# Real estimation 'Unbiased estimator' - esp = 0.1"
      ]
    },
    {
      "cell_type": "code",
      "metadata": {
        "id": "l0MyseJNC0GA"
      },
      "source": [
        "def SB_GRR(p,q,j,lst_anon,dens='nb'):\n",
        "  n = len(lst_anon)\n",
        "  res = []\n",
        "  for i in range(0,j):\n",
        "    #print(Ni[1][i])\n",
        "    #print(n*q)\n",
        "    #print(Ni[1][i]-n*q)\n",
        "    #print(p-q)\n",
        "    #print((Ni[1][i]-n*q)/(p-q))\n",
        "    res.append(int((Ni[1][i] - (n*q))/(p-q)))\n",
        "  return res\n",
        "\n",
        "#SB_GRR(p,q,j,lst_anon,dens='nb')"
      ],
      "execution_count": 141,
      "outputs": []
    },
    {
      "cell_type": "markdown",
      "metadata": {
        "id": "WmVO7TfnuQhh"
      },
      "source": [
        "# Real estimation 'Unbiased estimator' - esp = 1"
      ]
    },
    {
      "cell_type": "code",
      "metadata": {
        "id": "fwqGeXhoa1ZS"
      },
      "source": [
        "def SB_GRR1(p1,q1,j1,lst_anon1,dens='nb'):\n",
        "  n = len(lst_anon1)\n",
        "  res = []\n",
        "  for i in range(0,j1):\n",
        "    res.append(int((Ni1[1][i] - (n*q1))/(p1-q1)))\n",
        "  return res"
      ],
      "execution_count": 142,
      "outputs": []
    },
    {
      "cell_type": "markdown",
      "metadata": {
        "id": "JrgU2xuRuSU9"
      },
      "source": [
        "# Real estimation 'Unbiased estimator' - esp = 10"
      ]
    },
    {
      "cell_type": "code",
      "metadata": {
        "id": "7BbsogR1a5lH"
      },
      "source": [
        "def SB_GRR10(p10,q10,j10,lst_anon10,dens='nb'):\n",
        "  n = len(lst_anon10)\n",
        "  res = []\n",
        "  for i in range(0,j10):\n",
        "    res.append(int((Ni10[1][i] - (n*q10))/(p10-q10)))\n",
        "  return res"
      ],
      "execution_count": 143,
      "outputs": []
    },
    {
      "cell_type": "markdown",
      "metadata": {
        "id": "s-vuLPwDuXZJ"
      },
      "source": [
        "# Real estimation 'Unbiased estimator'"
      ]
    },
    {
      "cell_type": "code",
      "metadata": {
        "id": "rsKYxy16CtNU"
      },
      "source": [
        "#estimated = SB_GRR(p,q,j,lst_anon,dens='nb')\n",
        "#estimated\n",
        "estimated = [int(val) for val in SB_GRR(p,q,j,lst_anon,dens='nb')]\n",
        "estimated1 = [int(val) for val in SB_GRR1(p1,q1,j1,lst_anon1,dens='nb')]\n",
        "estimated10 = [int(val) for val in SB_GRR10(p10,q10,j10,lst_anon10,dens='nb')]\n"
      ],
      "execution_count": 144,
      "outputs": []
    },
    {
      "cell_type": "markdown",
      "metadata": {
        "id": "SRPGBLGTuZIR"
      },
      "source": [
        "# Visualization real vs estimated (esp = 0.1)"
      ]
    },
    {
      "cell_type": "code",
      "metadata": {
        "colab": {
          "base_uri": "https://localhost:8080/",
          "height": 230
        },
        "id": "HHgfRxouHRXm",
        "outputId": "3a71c889-1db9-474a-e25e-609ae9927eaa"
      },
      "source": [
        "barWidth = 0.4\n",
        "r1 = np.arange(len(Real[-1]))\n",
        "r2 = [x + barWidth for x in r1]\n",
        "\n",
        "plt.figure(figsize=(16,3))\n",
        "plt.bar(r1, Real[-1], color='tab:blue', width=barWidth, edgecolor='white', label='Real')\n",
        "plt.bar(r2, estimated, color='tab:orange', width=barWidth, edgecolor='white', label='Estimated')\n",
        "plt.xticks([r+barWidth/2 for r in r1], Real[0],rotation=90)\n",
        "plt.ylabel('Nb of users')\n",
        "plt.legend()\n",
        "plt.show();"
      ],
      "execution_count": 145,
      "outputs": [
        {
          "output_type": "display_data",
          "data": {
            "image/png": "[encoded data removed]",
            "text/plain": [
              "<Figure size 1152x216 with 1 Axes>"
            ]
          },
          "metadata": {
            "tags": [],
            "needs_background": "light"
          }
        }
      ]
    },
    {
      "cell_type": "markdown",
      "metadata": {
        "id": "u-oJL9MJuhDc"
      },
      "source": [
        "# Visualization real vs estimated (esp = 1)"
      ]
    },
    {
      "cell_type": "code",
      "metadata": {
        "colab": {
          "base_uri": "https://localhost:8080/",
          "height": 230
        },
        "id": "Wh5NyqXDbCVy",
        "outputId": "1a394b74-049f-4e8c-d3e3-fe741a675a48"
      },
      "source": [
        "barWidth = 0.4\n",
        "r1 = np.arange(len(Real[-1]))\n",
        "r2 = [x + barWidth for x in r1]\n",
        "\n",
        "plt.figure(figsize=(16,3))\n",
        "plt.bar(r1, Real[-1], color='tab:blue', width=barWidth, edgecolor='white', label='Real')\n",
        "plt.bar(r2, estimated1, color='tab:orange', width=barWidth, edgecolor='white', label='Estimated')\n",
        "plt.xticks([r+barWidth/2 for r in r1], Real[0],rotation=90)\n",
        "plt.ylabel('Nb of users')\n",
        "plt.legend()\n",
        "plt.show();"
      ],
      "execution_count": 146,
      "outputs": [
        {
          "output_type": "display_data",
          "data": {
            "image/png": "[encoded data removed]",
            "text/plain": [
              "<Figure size 1152x216 with 1 Axes>"
            ]
          },
          "metadata": {
            "tags": [],
            "needs_background": "light"
          }
        }
      ]
    },
    {
      "cell_type": "markdown",
      "metadata": {
        "id": "H2In-n3vujP1"
      },
      "source": [
        "# Visualization real vs estimated (esp = 10)"
      ]
    },
    {
      "cell_type": "code",
      "metadata": {
        "colab": {
          "base_uri": "https://localhost:8080/",
          "height": 230
        },
        "id": "Xh23vB8nbC59",
        "outputId": "7f55a5d7-c8ea-4337-de11-273f47df475e"
      },
      "source": [
        "barWidth = 0.4\n",
        "r1 = np.arange(len(Real[-1]))\n",
        "r2 = [x + barWidth for x in r1]\n",
        "\n",
        "plt.figure(figsize=(16,3))\n",
        "plt.bar(r1, Real[-1], color='tab:blue', width=barWidth, edgecolor='white', label='Real')\n",
        "plt.bar(r2, estimated10, color='tab:orange', width=barWidth, edgecolor='white', label='Estimated')\n",
        "plt.xticks([r+barWidth/2 for r in r1], Real[0],rotation=90)\n",
        "plt.ylabel('Nb of users')\n",
        "plt.legend()\n",
        "plt.show();"
      ],
      "execution_count": 147,
      "outputs": [
        {
          "output_type": "display_data",
          "data": {
            "image/png": "[encoded data removed]",
            "text/plain": [
              "<Figure size 1152x216 with 1 Axes>"
            ]
          },
          "metadata": {
            "tags": [],
            "needs_background": "light"
          }
        }
      ]
    },
    {
      "cell_type": "markdown",
      "metadata": {
        "id": "M1t8WhIFuoCc"
      },
      "source": [
        "# Calculating error"
      ]
    },
    {
      "cell_type": "markdown",
      "metadata": {
        "id": "ux5mDYENuslp"
      },
      "source": [
        "# esp = 0.1"
      ]
    },
    {
      "cell_type": "code",
      "metadata": {
        "colab": {
          "base_uri": "https://localhost:8080/"
        },
        "id": "dAaHQk0ZJpW2",
        "outputId": "ec6d4d31-549d-4691-f65f-7698405b89ac"
      },
      "source": [
        "RMSE = np.sqrt(mean_squared_error(Real[-1],estimated))\n",
        "print('Nb Real:\\t',Real[-1],'\\nNb Estimated:\\t',estimated)\n",
        "print('\\nRMSE: {} with epsilon: {}'.format(RMSE,eps))\n",
        "print(\"Value of p: \", p)\n",
        "print(\"Value of q: \", q)"
      ],
      "execution_count": 148,
      "outputs": [
        {
          "output_type": "stream",
          "text": [
            "Nb Real:\t [ 8474 11115 11813 12710 11907 17111 13968  1837] \n",
            "Nb Estimated:\t [5115, 11434, 12051, 21376, 14440, 24459, 4421, -4363]\n",
            "\n",
            "RMSE: 5879.36267804598 with epsilon: 0.1\n",
            "Value of p:  0.13635380786492293\n",
            "Value of q:  0.12337802744786816\n"
          ],
          "name": "stdout"
        }
      ]
    },
    {
      "cell_type": "markdown",
      "metadata": {
        "id": "TAeW4R9suv_-"
      },
      "source": [
        "# esp = 1"
      ]
    },
    {
      "cell_type": "code",
      "metadata": {
        "colab": {
          "base_uri": "https://localhost:8080/"
        },
        "id": "m5iSsdanbHd9",
        "outputId": "fa981e28-38e7-4f23-9300-41e6eadddd23"
      },
      "source": [
        "RMSE = np.sqrt(mean_squared_error(Real[-1],estimated1))\n",
        "print('Nb Real:\\t',Real[-1],'\\nNb Estimated:\\t',estimated1)\n",
        "print('\\nRMSE: {} with epsilon: {}'.format(RMSE,eps1))\n",
        "print(\"Value of p: \", p1)\n",
        "print(\"Value of q: \", q1)"
      ],
      "execution_count": 149,
      "outputs": [
        {
          "output_type": "stream",
          "text": [
            "Nb Real:\t [ 8474 11115 11813 12710 11907 17111 13968  1837] \n",
            "Nb Estimated:\t [7271, 11564, 12096, 12163, 12243, 17361, 13871, 2362]\n",
            "\n",
            "RMSE: 557.734031595706 with epsilon: 1\n",
            "Value of p:  0.27970806737656245\n",
            "Value of q:  0.10289884751763394\n"
          ],
          "name": "stdout"
        }
      ]
    },
    {
      "cell_type": "markdown",
      "metadata": {
        "id": "ckvQmsTAuy4V"
      },
      "source": [
        "# esp = 10"
      ]
    },
    {
      "cell_type": "code",
      "metadata": {
        "colab": {
          "base_uri": "https://localhost:8080/"
        },
        "id": "vmHq2goqbH1n",
        "outputId": "da4cac0a-8675-4a4b-cc31-cb8db56bfa80"
      },
      "source": [
        "RMSE = np.sqrt(mean_squared_error(Real[-1],estimated10))\n",
        "print('Nb Real:\\t',Real[-1],'\\nNb Estimated:\\t',estimated10)\n",
        "print('\\nRMSE: {} with epsilon: {}'.format(RMSE,eps10))\n",
        "print(\"Value of p: \", p10)\n",
        "print(\"Value of q: \", q10)"
      ],
      "execution_count": 150,
      "outputs": [
        {
          "output_type": "stream",
          "text": [
            "Nb Real:\t [ 8474 11115 11813 12710 11907 17111 13968  1837] \n",
            "Nb Estimated:\t [8473, 11111, 11812, 12710, 11908, 17113, 13970, 1835]\n",
            "\n",
            "RMSE: 1.9685019685029528 with epsilon: 10\n",
            "Value of p:  0.9996823014561037\n",
            "Value of q:  4.538550627089918e-05\n"
          ],
          "name": "stdout"
        }
      ]
    }
  ]
}